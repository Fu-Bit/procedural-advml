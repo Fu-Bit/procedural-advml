{
 "cells": [
  {
   "cell_type": "code",
   "execution_count": null,
   "metadata": {},
   "outputs": [],
   "source": [
    "%matplotlib inline\n",
    "#%matplotlib notebook"
   ]
  },
  {
   "cell_type": "code",
   "execution_count": null,
   "metadata": {
    "scrolled": true
   },
   "outputs": [],
   "source": [
    "from __future__ import absolute_import\n",
    "from __future__ import division\n",
    "from __future__ import print_function\n",
    "\n",
    "import GPyOpt\n",
    "import matplotlib.cm as cm\n",
    "import matplotlib.pyplot as plt\n",
    "import numpy as np\n",
    "import os\n",
    "\n",
    "from keras.preprocessing import image\n",
    "from utils_bopt import load_predict, get_noise_f\n",
    "from utils_attack import perturb"
   ]
  },
  {
   "cell_type": "markdown",
   "metadata": {},
   "source": [
    "# Images"
   ]
  },
  {
   "cell_type": "markdown",
   "metadata": {},
   "source": [
    "<b>Images:</b> Stock photos taken from [Pexels](https://www.pexels.com/)."
   ]
  },
  {
   "cell_type": "code",
   "execution_count": null,
   "metadata": {
    "scrolled": false
   },
   "outputs": [],
   "source": [
    "img_dir = 'images/'\n",
    "\n",
    "# Specify image dimensions\n",
    "dim = 299\n",
    "\n",
    "# Load images\n",
    "all_images = {}\n",
    "for filename in os.listdir(img_dir):\n",
    "    if not filename.startswith('.'):\n",
    "        img = image.load_img(img_dir + filename, target_size = (dim, dim)) # We assume all images have the same dimensions\n",
    "        img = image.img_to_array(img)\n",
    "        all_images[filename.split('.')[0]] = img\n",
    "\n",
    "# Display images\n",
    "for key, vals in all_images.items():\n",
    "    fig2 = plt.figure()\n",
    "    plt.axis('off')\n",
    "    plt.imshow(vals.astype(np.uint8))"
   ]
  },
  {
   "cell_type": "markdown",
   "metadata": {},
   "source": [
    "# Bayesian Optimization"
   ]
  },
  {
   "cell_type": "markdown",
   "metadata": {},
   "source": [
    "## Model & Noise"
   ]
  },
  {
   "cell_type": "code",
   "execution_count": null,
   "metadata": {
    "scrolled": true
   },
   "outputs": [],
   "source": [
    "# Model and noise settings\n",
    "noise_f = 'perlin'             # ''perlin'\n",
    "model_name = 'IncV3'   # 'IncV3'\n",
    "\n",
    "# Load model and noise function\n",
    "predict_prob = load_predict(model_name)\n",
    "noise_func, bounds = get_noise_f(dim, noise_f)"
   ]
  },
  {
   "cell_type": "markdown",
   "metadata": {},
   "source": [
    "## Constraints"
   ]
  },
  {
   "cell_type": "code",
   "execution_count": null,
   "metadata": {
    "scrolled": false
   },
   "outputs": [],
   "source": [
    "all_images.keys()"
   ]
  },
  {
   "cell_type": "markdown",
   "metadata": {},
   "source": [
    "Change this for various experiments:"
   ]
  },
  {
   "cell_type": "code",
   "execution_count": null,
   "metadata": {},
   "outputs": [],
   "source": [
    "max_norm = 8\n",
    "max_query = 10\n",
    "init_query = 5\n",
    "img_key = 'boat'          # choose filename from directory"
   ]
  },
  {
   "cell_type": "markdown",
   "metadata": {},
   "source": [
    "## Initialization"
   ]
  },
  {
   "cell_type": "markdown",
   "metadata": {},
   "source": [
    "We assume the classifier correctly labels the original image since that we will try to minimize the highest label of the original image."
   ]
  },
  {
   "cell_type": "code",
   "execution_count": null,
   "metadata": {},
   "outputs": [],
   "source": [
    "# Get original image and index\n",
    "orig_img = all_images[img_key]\n",
    "probs, _ = predict_prob(orig_img.reshape((dim, dim, 3)))\n",
    "orig_ind = np.argmax(probs)"
   ]
  },
  {
   "cell_type": "code",
   "execution_count": null,
   "metadata": {},
   "outputs": [],
   "source": [
    "# Initial queries for Bayesian optimization\n",
    "np.random.seed(0)\n",
    "feasible_space = GPyOpt.Design_space(space = bounds)        \n",
    "initial_design = GPyOpt.experiment_design.initial_design('random', feasible_space, init_query)"
   ]
  },
  {
   "cell_type": "markdown",
   "metadata": {},
   "source": [
    "GPyOpt minimizes the objective function. For here, the objective function is the difference between the probability of the original label and the 2nd highest probability score. If this remains positive then the original label is still the highest probability score. Otherwise, it's not the top prediction."
   ]
  },
  {
   "cell_type": "code",
   "execution_count": null,
   "metadata": {},
   "outputs": [],
   "source": [
    "# Objective function\n",
    "class objective_func:\n",
    "    def __init__(self):\n",
    "        pass\n",
    "    def f(self, params):\n",
    "        params = params[0]\n",
    "        payload = perturb(orig_img, noise_func(params), max_norm)\n",
    "        scores, decoded = predict_prob(payload)\n",
    "        orig_score = scores[orig_ind]\n",
    "        return orig_score - decoded[1][2] "
   ]
  },
  {
   "cell_type": "code",
   "execution_count": null,
   "metadata": {},
   "outputs": [],
   "source": [
    "best_f = 1\n",
    "queries = 0\n",
    "obj_func = objective_func()\n",
    "\n",
    "# Gaussian process and Bayesian optimization\n",
    "objective = GPyOpt.core.task.SingleObjective(obj_func.f, num_cores = 1)\n",
    "model = GPyOpt.models.GPModel(exact_feval = False, optimize_restarts = 5, verbose = False)\n",
    "aquisition_opt = GPyOpt.optimization.AcquisitionOptimizer(feasible_space)\n",
    "acquisition = GPyOpt.acquisitions.AcquisitionLCB(model, feasible_space, optimizer = aquisition_opt)\n",
    "evaluator = GPyOpt.core.evaluators.Sequential(acquisition, batch_size = 1)"
   ]
  },
  {
   "cell_type": "markdown",
   "metadata": {},
   "source": [
    "## Attack"
   ]
  },
  {
   "cell_type": "code",
   "execution_count": null,
   "metadata": {},
   "outputs": [],
   "source": [
    "BOpt = GPyOpt.methods.ModularBayesianOptimization(model, feasible_space, objective, acquisition, evaluator, initial_design)\n",
    "\n",
    "while queries < max_query and best_f > 0:\n",
    "    queries += 1\n",
    "    BOpt.run_optimization(max_iter = 1)\n",
    "    best_f = BOpt.fx_opt\n",
    "    if queries % 5 == 0: print('Query %i, Objective Function %0.2f' % (queries, best_f)) # Print every 5th query\n",
    "\n",
    "if best_f > 0:\n",
    "    print('Attack failed.')\n",
    "else:\n",
    "    print('Success!')\n",
    "    \n",
    "# Evaluate best parameters\n",
    "params = BOpt.x_opt\n",
    "payload = perturb(orig_img, noise_func(params), max_norm)\n",
    "scores, decoded = predict_prob(payload)"
   ]
  },
  {
   "cell_type": "markdown",
   "metadata": {},
   "source": [
    "# Results"
   ]
  },
  {
   "cell_type": "markdown",
   "metadata": {},
   "source": [
    "These are the best parameters found. Note the parameters we use here for Perlin and OpenSimplex noise is the frequency rather than period, so take the reciprocal if you want to test it on our visualization notebooks."
   ]
  },
  {
   "cell_type": "code",
   "execution_count": null,
   "metadata": {
    "scrolled": true
   },
   "outputs": [],
   "source": [
    "print('Objective function value:', best_f)\n",
    "print('Parameters:', params)"
   ]
  },
  {
   "cell_type": "markdown",
   "metadata": {},
   "source": [
    "## Visualize Results"
   ]
  },
  {
   "cell_type": "code",
   "execution_count": null,
   "metadata": {},
   "outputs": [],
   "source": [
    "# Display images and probabilities\n",
    "fig = plt.figure(figsize = (18, 8))\n",
    "plt.subplots_adjust(wspace = 0.05)\n",
    "plt.title(img_key, fontsize = 24)\n",
    "plt.axis('off')\n",
    "\n",
    "# Original image\n",
    "ax = fig.add_subplot(1, 3, 1)\n",
    "plt.setp(ax.get_xticklabels(), visible=False)\n",
    "plt.setp(ax.get_yticklabels(), visible=False)\n",
    "ax.tick_params(axis = 'both', which = 'both', length = 0)\n",
    "ax.set_title('Original Image', size = 16)\n",
    "plt.imshow(orig_img.astype(np.uint8))\n",
    "scores, decoded = predict_prob(orig_img.reshape((dim, dim, 3)))\n",
    "plt.xlabel('\\n'.join((item[1]  + '  %.3f' % item[2]) for item in decoded[:5]), horizontalalignment = 'right', x = 1, size = 16)\n",
    "\n",
    "# Altered image\n",
    "ax = fig.add_subplot(1, 3, 2)\n",
    "plt.setp(ax.get_xticklabels(), visible=False)\n",
    "plt.setp(ax.get_yticklabels(), visible=False)\n",
    "ax.tick_params(axis = 'both', which = 'both', length = 0)\n",
    "ax.set_title('Perturbed Image', size = 16)\n",
    "plt.imshow(payload.astype(np.uint8))\n",
    "scores, decoded = predict_prob(payload.reshape((dim, dim, 3)))\n",
    "plt.xlabel('\\n'.join((item[1]  + '  %.3f' % item[2]) for item in decoded[:5]), horizontalalignment = 'right', x = 1, size = 16)\n",
    "\n",
    "# Noise pattern\n",
    "ax = fig.add_subplot(1, 3, 3)    \n",
    "plt.setp(ax.get_xticklabels(), visible=False)\n",
    "plt.setp(ax.get_yticklabels(), visible=False)\n",
    "ax.tick_params(axis = 'both', which = 'both', length = 0)\n",
    "ax.set_title('Noise Pattern', size = 16)\n",
    "plt.imshow((noise_func(params) + 1) / 2)"
   ]
  },
  {
   "cell_type": "code",
   "execution_count": null,
   "metadata": {},
   "outputs": [],
   "source": []
  }
 ],
 "metadata": {
  "kernelspec": {
   "display_name": "Python 3",
   "language": "python",
   "name": "python3"
  },
  "language_info": {
   "codemirror_mode": {
    "name": "ipython",
    "version": 3
   },
   "file_extension": ".py",
   "mimetype": "text/x-python",
   "name": "python",
   "nbconvert_exporter": "python",
   "pygments_lexer": "ipython3",
   "version": "3.6.8"
  }
 },
 "nbformat": 4,
 "nbformat_minor": 2
}
