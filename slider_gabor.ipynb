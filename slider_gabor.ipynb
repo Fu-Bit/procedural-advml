{
 "cells": [
  {
   "cell_type": "code",
   "execution_count": null,
   "metadata": {},
   "outputs": [],
   "source": [
    "%matplotlib inline\n",
    "#%matplotlib notebook"
   ]
  },
  {
   "cell_type": "code",
   "execution_count": null,
   "metadata": {},
   "outputs": [],
   "source": [
    "from __future__ import absolute_import\n",
    "from __future__ import division\n",
    "from __future__ import print_function\n",
    "\n",
    "import matplotlib.cm as cm\n",
    "import matplotlib.pyplot as plt\n",
    "import numpy as np\n",
    "import os\n",
    "\n",
    "from ipywidgets import interactive\n",
    "from ipywidgets import Dropdown, FloatSlider, IntSlider, ToggleButtons\n",
    "from keras.applications.inception_v3 import InceptionV3\n",
    "from keras.applications.inception_v3 import decode_predictions, preprocess_input\n",
    "from keras.preprocessing import image\n",
    "from utils_attack import colorize, perturb\n",
    "from utils_noise import gaborN_rand, gaborN_uni\n",
    "from utils_noise import normalize, normalize_var"
   ]
  },
  {
   "cell_type": "markdown",
   "metadata": {},
   "source": [
    "# Model & Images"
   ]
  },
  {
   "cell_type": "markdown",
   "metadata": {},
   "source": [
    "<b>Model:</b> [InceptionV3](https://keras.io/applications/#inceptionv3) NN architecture using Keras weights from training on the ImageNet dataset. This achieves a top-1 accuracy of 77.9% and top-5 accuracy of 93.7%. Other models can be found [here](https://keras.io/applications/#documentation-for-individual-models). \n",
    "<br><b>Images:</b> Stock photos taken from [Pexels](https://www.pexels.com/)."
   ]
  },
  {
   "cell_type": "code",
   "execution_count": null,
   "metadata": {
    "scrolled": true
   },
   "outputs": [],
   "source": [
    "img_dir = 'images/'\n",
    "\n",
    "# Specify image dimensions\n",
    "size = 299\n",
    "\n",
    "# Load model\n",
    "model = InceptionV3(weights = 'imagenet')\n",
    "\n",
    "# Load images\n",
    "all_images = {}\n",
    "for filename in os.listdir(img_dir):\n",
    "    if not filename.startswith('.'):\n",
    "        img = image.load_img(img_dir + filename, target_size = (size, size)) # We assume all images have the same dimensions\n",
    "        img = image.img_to_array(img)\n",
    "        all_images[filename.split('.')[0]] = img\n",
    "\n",
    "# Display images\n",
    "for key, vals in all_images.items():\n",
    "    fig2 = plt.figure()\n",
    "    plt.axis('off')\n",
    "    plt.imshow(vals.astype(np.uint8))"
   ]
  },
  {
   "cell_type": "markdown",
   "metadata": {},
   "source": [
    "# Gabor Noise"
   ]
  },
  {
   "cell_type": "code",
   "execution_count": null,
   "metadata": {
    "scrolled": false
   },
   "outputs": [],
   "source": [
    "grid = 23 # fixed grid size\n",
    "\n",
    "# Interactive slider\n",
    "def PlotGaborRand(img_key, max_norm, num_kern, ksize, sigma, theta, lambd, color = 'Black-White'):\n",
    "    image = all_images[img_key]\n",
    "    fig = plt.figure(figsize = (18, 7.5))\n",
    "    plt.subplots_adjust(wspace = 0.05)\n",
    "    plt.title('Anisotropic Gabor Noise', size = 20)\n",
    "    plt.axis('off')\n",
    "    \n",
    "    if color == 'Black-White': coloring = [1, 1, 1]\n",
    "    if color == 'Red-Cyan': coloring = [1, -1, -1]\n",
    "    if color == 'Green-Magenta': coloring = [-1, 1, -1]\n",
    "    if color == 'Blue-Yellow': coloring = [-1, -1, 1]\n",
    "    \n",
    "    # Noise pattern\n",
    "    ax = fig.add_subplot(1, 3, 3)    \n",
    "    plt.setp(ax.get_xticklabels(), visible=False)\n",
    "    plt.setp(ax.get_yticklabels(), visible=False)\n",
    "    ax.tick_params(axis = 'both', which = 'both', length = 0)\n",
    "    ax.set_title('Noise Pattern', size = 16)\n",
    "    \n",
    "    noise = gaborN_rand(size = size, grid = grid, num_kern = num_kern, ksize = ksize, sigma = sigma, theta = theta, lambd = lambd)\n",
    "    noise = normalize_var(noise)\n",
    "    noise = colorize(noise, coloring)\n",
    "    plt.imshow(normalize(noise))\n",
    "    \n",
    "    # Original image\n",
    "    ax = fig.add_subplot(1, 3, 1)\n",
    "    plt.setp(ax.get_xticklabels(), visible=False)\n",
    "    plt.setp(ax.get_yticklabels(), visible=False)\n",
    "    ax.tick_params(axis = 'both', which = 'both', length = 0)\n",
    "    ax.set_title('Original Image', size = 16)\n",
    "    payload = perturb(img = image, noise = np.zeros((size, size, 3)), norm = max_norm)\n",
    "    plt.imshow(payload.astype(np.uint8))\n",
    "    prob = model.predict(preprocess_input(payload.astype(np.float).reshape((1, size, size, 3))))\n",
    "    plt.xlabel('\\n'.join((item[1]  + '  %.3f' % item[2]) for item in decode_predictions(prob)[0]), horizontalalignment = 'right', x = 1, size = 16)\n",
    "    \n",
    "    # Altered image\n",
    "    ax = fig.add_subplot(1, 3, 2)\n",
    "    plt.setp(ax.get_xticklabels(), visible=False)\n",
    "    plt.setp(ax.get_yticklabels(), visible=False)\n",
    "    ax.tick_params(axis = 'both', which = 'both', length = 0)\n",
    "    ax.set_title('Altered Image', size = 16)\n",
    "    payload = perturb(img = image, noise = noise, norm = max_norm)\n",
    "    plt.imshow(payload.astype(np.uint8))\n",
    "    prob = model.predict(preprocess_input(payload.astype(np.float).reshape((1, size, size, 3))))\n",
    "    plt.xlabel('\\n'.join((item[1]  + '  %.3f' % item[2]) for item in decode_predictions(prob)[0]), horizontalalignment = 'right', x = 1, size = 16)\n",
    "\n",
    "# Parameter sliders\n",
    "s_img_key = Dropdown(options = list(all_images.keys()), value = 'boat', description = 'Image:')\n",
    "s_max_norm = IntSlider(min = 0, max = 64, value = 12, step = 2, continuous_update = False, description = 'Max Change:')\n",
    "s_num_kern = IntSlider(min = 1, max = 100, value = 23, step = 1, continuous_update = False, description = 'No. Kernels:')\n",
    "s_ksize = IntSlider(min = 1, max = 100, value = 23, step = 1, continuous_update = False, description = 'Kernel Size:')\n",
    "s_sigma = FloatSlider(min = 1, max = 20, value = 8, step = 0.25, continuous_update = False, description = 'Kernel Var:')\n",
    "s_theta = FloatSlider(min = 0, max = np.pi, value = np.pi / 4, step = np.pi / 24, continuous_update = False, description = 'Orientation:')\n",
    "s_lambd = FloatSlider(min = 0.25, max = 20, value = 8, step = 0.25, continuous_update = False, description = 'Bandwidth:')\n",
    "s_color = ToggleButtons(options = ['Black-White', 'Red-Cyan', 'Green-Magenta', 'Blue-Yellow'], description = 'Color:', button_style='', disabled = False)\n",
    "\n",
    "interactive(PlotGaborRand,\n",
    "                 img_key = s_img_key,\n",
    "                 max_norm = s_max_norm,\n",
    "                 num_kern = s_num_kern,\n",
    "                 ksize = s_ksize,\n",
    "                 sigma = s_sigma,\n",
    "                 theta = s_theta,\n",
    "                 lambd = s_lambd,\n",
    "                 color = s_color)"
   ]
  },
  {
   "cell_type": "markdown",
   "metadata": {},
   "source": [
    "The classifier's top 5 predictions are displayed under each image."
   ]
  }
 ],
 "metadata": {
  "kernelspec": {
   "display_name": "Python 3",
   "language": "python",
   "name": "python3"
  },
  "language_info": {
   "codemirror_mode": {
    "name": "ipython",
    "version": 3
   },
   "file_extension": ".py",
   "mimetype": "text/x-python",
   "name": "python",
   "nbconvert_exporter": "python",
   "pygments_lexer": "ipython3",
   "version": "3.6.8"
  }
 },
 "nbformat": 4,
 "nbformat_minor": 2
}
