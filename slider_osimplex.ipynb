{
 "cells": [
  {
   "cell_type": "code",
   "execution_count": null,
   "metadata": {},
   "outputs": [],
   "source": [
    "%matplotlib inline\n",
    "#%matplotlib notebook"
   ]
  },
  {
   "cell_type": "code",
   "execution_count": null,
   "metadata": {},
   "outputs": [],
   "source": [
    "from __future__ import absolute_import\n",
    "from __future__ import division\n",
    "from __future__ import print_function\n",
    "\n",
    "import matplotlib.cm as cm\n",
    "import matplotlib.pyplot as plt\n",
    "import numpy as np\n",
    "import os\n",
    "\n",
    "from ipywidgets import interactive\n",
    "from ipywidgets import Dropdown, FloatSlider, IntSlider\n",
    "from keras.applications.inception_v3 import InceptionV3\n",
    "from keras.applications.inception_v3 import decode_predictions, preprocess_input\n",
    "from keras.preprocessing import image\n",
    "from noise_procedural import normalize, perturb, osimplex"
   ]
  },
  {
   "cell_type": "markdown",
   "metadata": {},
   "source": [
    "# Model & Images"
   ]
  },
  {
   "cell_type": "markdown",
   "metadata": {},
   "source": [
    "<b>Model:</b> [InceptionV3](https://keras.io/applications/#inceptionv3) NN architecture using Keras weights from training on the ImageNet dataset. This achieves a top-1 accuracy of 77.9% and top-5 accuracy of 93.7%. Other models can be found [here](https://keras.io/applications/#documentation-for-individual-models). \n",
    "<br><b>Images:</b> Stock photos taken from [Pexels](https://www.pexels.com/)."
   ]
  },
  {
   "cell_type": "code",
   "execution_count": null,
   "metadata": {
    "scrolled": false
   },
   "outputs": [],
   "source": [
    "img_dir = 'images/'\n",
    "\n",
    "# Specify image dimensions\n",
    "dim_x = 299\n",
    "dim_y = 299\n",
    "\n",
    "# Load model\n",
    "model = InceptionV3(weights = 'imagenet')\n",
    "\n",
    "# Load images\n",
    "all_images = {}\n",
    "for filename in os.listdir(img_dir):\n",
    "    if not filename.startswith('.'):\n",
    "        img = image.load_img(img_dir + filename, target_size = (dim_x, dim_y)) # We assume all images have the same dimensions\n",
    "        img = image.img_to_array(img)\n",
    "        all_images[filename.split('.')[0]] = img\n",
    "\n",
    "# Display images\n",
    "for key, vals in all_images.items():\n",
    "    fig2 = plt.figure()\n",
    "    plt.axis('off')\n",
    "    plt.imshow(vals.astype(np.uint8))"
   ]
  },
  {
   "cell_type": "markdown",
   "metadata": {},
   "source": [
    "# OpenSimplex Noise"
   ]
  },
  {
   "cell_type": "markdown",
   "metadata": {},
   "source": [
    "<b>Play</b> with the parameters of the noise function below. You'll find that it's easier to fool the classifier on some images over others!"
   ]
  },
  {
   "cell_type": "code",
   "execution_count": null,
   "metadata": {},
   "outputs": [],
   "source": [
    "# Interactive slider\n",
    "def PlotOSimplex(img_key, max_norm, period_x, period_y, freq_sine):\n",
    "    image = all_images[img_key]\n",
    "    fig = plt.figure(figsize = (18, 8))\n",
    "    plt.subplots_adjust(wspace = 0.05)\n",
    "    plt.title('OpenSimplex Noise', size = 16)\n",
    "    plt.axis('off')\n",
    "\n",
    "    # Noise pattern\n",
    "    ax = fig.add_subplot(1, 3, 3)    \n",
    "    plt.setp(ax.get_xticklabels(), visible=False)\n",
    "    plt.setp(ax.get_yticklabels(), visible=False)\n",
    "    ax.tick_params(axis = 'both', which = 'both', length = 0)\n",
    "    ax.set_title('Noise Pattern', size = 14)\n",
    "    \n",
    "    noise = osimplex(dim_x = dim_x, dim_y = dim_y, period_x = period_x, period_y = period_y, freq_sine = freq_sine)\n",
    "    plt.imshow((noise.reshape(dim_x, dim_y, 3) + 1) / 2, cmap = plt.cm.gray)\n",
    "    \n",
    "    # Original image\n",
    "    ax = fig.add_subplot(1, 3, 1)\n",
    "    plt.setp(ax.get_xticklabels(), visible=False)\n",
    "    plt.setp(ax.get_yticklabels(), visible=False)\n",
    "    ax.tick_params(axis = 'both', which = 'both', length = 0)\n",
    "    ax.set_title('Original Image', size = 14)\n",
    "    payload = perturb(orig = image, max_norm = max_norm, noise = np.zeros((dim_x, dim_y, 3)))\n",
    "    plt.imshow(payload.astype(np.uint8))\n",
    "    prob = model.predict(preprocess_input(payload.astype(np.float).reshape((1, dim_x, dim_y, 3))))\n",
    "    plt.xlabel('\\n'.join((item[1]  + '  %.3f' % item[2]) for item in decode_predictions(prob)[0]), horizontalalignment = 'right', x = 1, size = 16)\n",
    "    \n",
    "    # Altered image\n",
    "    ax = fig.add_subplot(1, 3, 2)\n",
    "    plt.setp(ax.get_xticklabels(), visible=False)\n",
    "    plt.setp(ax.get_yticklabels(), visible=False)\n",
    "    ax.tick_params(axis = 'both', which = 'both', length = 0)\n",
    "    ax.set_title('Altered Image', size = 14)\n",
    "    payload = perturb(orig = image, max_norm = max_norm, noise = noise)\n",
    "    plt.imshow(payload.astype(np.uint8))\n",
    "    prob = model.predict(preprocess_input(payload.astype(np.float).reshape((1, dim_x, dim_y, 3))))\n",
    "    plt.xlabel('\\n'.join((item[1]  + '  %.3f' % item[2]) for item in decode_predictions(prob)[0]), horizontalalignment = 'right', x = 1, size = 16)\n",
    "    \n",
    "# Parameter sliders\n",
    "s_img_key = Dropdown(options = list(all_images.keys()), value = 'boat', description = 'Image:')\n",
    "s_max_norm = IntSlider(min = 0, max = 64, value = 12, step = 2, continuous_update = False, description = 'Max Change:')\n",
    "s_period_x = IntSlider(min = 2, max = 180, value = 60, step = 1, continuous_update = False, description = 'Period X:')\n",
    "s_period_y = IntSlider(min = 2, max = 180, value = 60, step = 1, continuous_update = False, description = 'Period Y:')\n",
    "s_freq_sine = IntSlider(min = 0, max = 60, value = 36, step = 1, continuous_update = False, description = 'Freq Sine:')\n",
    "\n",
    "interactive(PlotOSimplex, img_key = s_img_key,\n",
    "                 max_norm = s_max_norm,\n",
    "                 period_x = s_period_x,\n",
    "                 period_y = s_period_y,\n",
    "                 freq_sine = s_freq_sine)"
   ]
  },
  {
   "cell_type": "markdown",
   "metadata": {},
   "source": [
    "The classifier's top 5 predictions are displayed under each image."
   ]
  },
  {
   "cell_type": "code",
   "execution_count": null,
   "metadata": {},
   "outputs": [],
   "source": []
  }
 ],
 "metadata": {
  "kernelspec": {
   "display_name": "Python 3",
   "language": "python",
   "name": "python3"
  },
  "language_info": {
   "codemirror_mode": {
    "name": "ipython",
    "version": 3
   },
   "file_extension": ".py",
   "mimetype": "text/x-python",
   "name": "python",
   "nbconvert_exporter": "python",
   "pygments_lexer": "ipython3",
   "version": "3.6.6"
  }
 },
 "nbformat": 4,
 "nbformat_minor": 2
}
